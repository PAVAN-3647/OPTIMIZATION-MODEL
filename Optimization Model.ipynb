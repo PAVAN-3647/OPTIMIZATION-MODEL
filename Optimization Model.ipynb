{
 "cells": [
  {
   "cell_type": "markdown",
   "id": "c11ec196",
   "metadata": {},
   "source": [
    "OPTIMIZATION MODEL"
   ]
  },
  {
   "cell_type": "markdown",
   "id": "8f58afff",
   "metadata": {},
   "source": [
    "Problem:\n",
    "\n",
    "A factory makes two products: A and B.\n",
    "Each unit of product A gives a profit of ₹20 and product B gives ₹30.\n",
    "\n",
    "Product A needs 2 hours of labor and 1 unit of material.\n",
    "\n",
    "Product B needs 1 hour of labor and 2 units of material.\n",
    "\n",
    "Total available:\n",
    "\n",
    "Labor: 100 hours\n",
    "\n",
    "Material: 80 units\n",
    "\n",
    "Goal: Maximize profit."
   ]
  },
  {
   "cell_type": "code",
   "execution_count": 8,
   "id": "5fc2c4f2",
   "metadata": {},
   "outputs": [
    {
     "name": "stdout",
     "output_type": "stream",
     "text": [
      "Requirement already satisfied: pulp in c:\\users\\harshitha\\appdata\\local\\programs\\python\\python312\\lib\\site-packages (3.2.1)\n"
     ]
    },
    {
     "name": "stderr",
     "output_type": "stream",
     "text": [
      "\n",
      "[notice] A new release of pip is available: 23.2.1 -> 25.1.1\n",
      "[notice] To update, run: python.exe -m pip install --upgrade pip\n"
     ]
    }
   ],
   "source": [
    "! pip install pulp\n",
    "import pulp\n",
    "from pulp import LpMaximize, LpProblem, LpVariable, value"
   ]
  },
  {
   "cell_type": "code",
   "execution_count": 10,
   "id": "6b65ed35",
   "metadata": {},
   "outputs": [
    {
     "name": "stdout",
     "output_type": "stream",
     "text": [
      "Maximize_Profit:\n",
      "MAXIMIZE\n",
      "None\n",
      "VARIABLES\n",
      "\n"
     ]
    }
   ],
   "source": [
    "\n",
    "# Create problem\n",
    "model = LpProblem(\"Maximize_Profit\", LpMaximize)\n",
    "print(model)"
   ]
  },
  {
   "cell_type": "code",
   "execution_count": null,
   "id": "6613e244",
   "metadata": {},
   "outputs": [],
   "source": [
    "# Decision variables: number of products A and B\n",
    "A = LpVariable(\"Product_A\", lowBound=0, cat='Integer')\n",
    "B = LpVariable(\"Product_B\", lowBound=0, cat='Integer')"
   ]
  },
  {
   "cell_type": "code",
   "execution_count": 11,
   "id": "25d8aa37",
   "metadata": {},
   "outputs": [
    {
     "name": "stdout",
     "output_type": "stream",
     "text": [
      "Maximize_Profit:\n",
      "MAXIMIZE\n",
      "20*Product_A + 30*Product_B + 0\n",
      "VARIABLES\n",
      "0 <= Product_A Integer\n",
      "0 <= Product_B Integer\n",
      "\n"
     ]
    }
   ],
   "source": [
    "# Objective function: Maximize profit\n",
    "model += 20 * A + 30 * B, \"Total_Profit\"\n",
    "print(model)"
   ]
  },
  {
   "cell_type": "code",
   "execution_count": 12,
   "id": "3787bdf3",
   "metadata": {},
   "outputs": [],
   "source": [
    "# Constraints\n",
    "model += 2 * A + 1 * B <= 100, \"Labor_Constraint\"\n",
    "model += 1 * A + 2 * B <= 80, \"Material_Constraint\""
   ]
  },
  {
   "cell_type": "code",
   "execution_count": 13,
   "id": "362161d8",
   "metadata": {},
   "outputs": [
    {
     "data": {
      "text/plain": [
       "1"
      ]
     },
     "execution_count": 13,
     "metadata": {},
     "output_type": "execute_result"
    }
   ],
   "source": [
    "# Solve the model\n",
    "model.solve()"
   ]
  },
  {
   "cell_type": "code",
   "execution_count": 14,
   "id": "c0745689",
   "metadata": {},
   "outputs": [
    {
     "name": "stdout",
     "output_type": "stream",
     "text": [
      "Status: 1\n",
      "Produce Product A: 40.0\n",
      "Produce Product B: 20.0\n",
      "Maximum Profit: ₹ 1400.0\n"
     ]
    }
   ],
   "source": [
    "# Result\n",
    "print(\"Status:\", model.status)\n",
    "print(\"Produce Product A:\", A.varValue)\n",
    "print(\"Produce Product B:\", B.varValue)\n",
    "print(\"Maximum Profit: ₹\", value(model.objective))"
   ]
  }
 ],
 "metadata": {
  "kernelspec": {
   "display_name": "Python 3",
   "language": "python",
   "name": "python3"
  },
  "language_info": {
   "codemirror_mode": {
    "name": "ipython",
    "version": 3
   },
   "file_extension": ".py",
   "mimetype": "text/x-python",
   "name": "python",
   "nbconvert_exporter": "python",
   "pygments_lexer": "ipython3",
   "version": "3.12.0"
  }
 },
 "nbformat": 4,
 "nbformat_minor": 5
}
